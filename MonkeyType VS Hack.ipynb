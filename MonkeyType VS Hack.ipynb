{
 "cells": [
  {
   "cell_type": "code",
   "execution_count": null,
   "id": "1f15af51",
   "metadata": {},
   "outputs": [],
   "source": [
    "import time\n",
    "import random\n",
    "from selenium import webdriver\n",
    "from selenium.webdriver.common.by import By\n",
    "from selenium.webdriver import ActionChains\n",
    "from selenium.common.exceptions import NoSuchElementException, StaleElementReferenceException\n",
    "from webdriver_manager.chrome import ChromeDriverManager\n",
    "from selenium.webdriver.common.keys import Keys"
   ]
  },
  {
   "cell_type": "code",
   "execution_count": null,
   "id": "d091f852",
   "metadata": {},
   "outputs": [],
   "source": [
    "# browser = webdriver.Chrome(ChromeDriverManager().install()) # use this to install chromium\n",
    "browser = webdriver.Chrome() # use this line if chromedriver is in PATH"
   ]
  },
  {
   "cell_type": "code",
   "execution_count": null,
   "id": "c7c1b54d",
   "metadata": {},
   "outputs": [],
   "source": [
    "def one_letter_at_a_time(delay: float):\n",
    "    # version 1: send leter by letter\n",
    "    words = browser.find_element(By.ID, \"words\").find_elements(By.CLASS_NAME, \"word\")\n",
    "    try:\n",
    "        while len(words) != 0:\n",
    "            active_index = [i for i in range(len(words)) if 'active' in words[i].get_attribute('class')][0]\n",
    "            words = words[active_index:]\n",
    "            all_letters = \"\"\n",
    "            for word in words:\n",
    "                letters = word.find_elements(By.TAG_NAME, \"letter\")\n",
    "                for letter in letters:\n",
    "                    all_letters += letter.text\n",
    "                all_letters += \" \"\n",
    "            for letter in all_letters:\n",
    "                ActionChains(browser).send_keys(letter).perform()\n",
    "                time.sleep(delay)\n",
    "            words = browser.find_element(By.ID, \"words\").find_elements(By.CLASS_NAME, \"word\")\n",
    "    except Exception as e:\n",
    "        print(e)\n",
    "    print(\"Game Over\")"
   ]
  },
  {
   "cell_type": "code",
   "execution_count": null,
   "id": "141f98ff",
   "metadata": {},
   "outputs": [],
   "source": [
    "def all_letters_at_a_time(delay: float):\n",
    "    # version 2: send all letters at once\n",
    "    words = browser.find_element(By.ID, \"words\").find_elements(By.CLASS_NAME, \"word\")\n",
    "    try:\n",
    "        while len(words) != 0:\n",
    "            active_index = [i for i in range(len(words)) if 'active' in words[i].get_attribute('class')][0]\n",
    "            words = words[active_index:]\n",
    "            all_letters = \"\"\n",
    "            for word in words:\n",
    "                letters = word.find_elements(By.TAG_NAME, \"letter\")\n",
    "                for letter in letters:\n",
    "                    all_letters += letter.text\n",
    "                all_letters += \" \"\n",
    "            ActionChains(browser).send_keys(all_letters).perform()\n",
    "            time.sleep(delay)\n",
    "            words = browser.find_element(By.ID, \"words\").find_elements(By.CLASS_NAME, \"word\")\n",
    "    except Exception as e:\n",
    "        print(e)\n",
    "    print(\"Game Over\")\n"
   ]
  },
  {
   "cell_type": "code",
   "execution_count": null,
   "id": "4c00577f",
   "metadata": {},
   "outputs": [],
   "source": [
    "def one_word_at_a_time(delay: float):\n",
    "    # version 3: detect one active word at a time and input (fastest way)\n",
    "    try:\n",
    "        while len(browser.find_elements(By.CLASS_NAME, \"word\")) != 0:\n",
    "            ActionChains(browser).send_keys([letter.text for letter in browser.find_element(By.CSS_SELECTOR, \".word.active\").find_elements(By.TAG_NAME, \"letter\")] + [' ']).perform()\n",
    "            time.sleep(delay)\n",
    "    except Exception as e:\n",
    "        print(e)\n",
    "    print(\"Game Over\")"
   ]
  },
  {
   "cell_type": "code",
   "execution_count": null,
   "id": "cc298645",
   "metadata": {},
   "outputs": [],
   "source": [
    "def one_word_letter_at_a_time(wpm=500):\n",
    "    import random, time\n",
    "    from selenium.webdriver.common.by import By\n",
    "    from selenium.webdriver.common.action_chains import ActionChains\n",
    "\n",
    "    delay = 1 / wpm # Accurate delay per character to match WPM\n",
    "    print(f\"Target WPM {wpm} → Delay per char: {delay:.4f} sec\")\n",
    "\n",
    "    try:\n",
    "        start_time = time.time()\n",
    "\n",
    "        while len(browser.find_elements(By.CLASS_NAME, \"word\")) != 0:\n",
    "            active_word = browser.find_element(By.CSS_SELECTOR, \".word.active\")\n",
    "            letters = [letter.text for letter in active_word.find_elements(By.TAG_NAME, \"letter\")] + [' ']\n",
    "\n",
    "            for letter in letters:\n",
    "                elapsed = time.time() - start_time\n",
    "\n",
    "                # Dynamic typing speed to simulate human rhythm\n",
    "                if elapsed < 4:\n",
    "                    varied_delay = random.uniform(delay * 0.3, delay * 0.6)\n",
    "                elif elapsed < 10:\n",
    "                    varied_delay = random.uniform(delay * 0.7, delay * 1.1)\n",
    "                else:\n",
    "                    varied_delay = random.uniform(delay * 0.95, delay * 1.1)\n",
    "\n",
    "                # Occasional pause patterns (human-like)\n",
    "                r = random.random()\n",
    "                if r < 0.005:\n",
    "                    time.sleep(1.0)      # deep pause\n",
    "                elif r < 0.01:\n",
    "                    time.sleep(0.5)      # slight hesitation\n",
    "                elif r < 0.015:\n",
    "                    time.sleep(0.25)\n",
    "                elif r < 0.02:\n",
    "                    time.sleep(0.125)\n",
    "                elif r < 0.025:\n",
    "                    time.sleep(0.0231)\n",
    "\n",
    "                # Slow down on awkward keys\n",
    "                if len(letter) > 1 or letter.lower() in ['p', 'y', 'g']:\n",
    "                    time.sleep(0.025)\n",
    "\n",
    "                # Simulate realistic key press + hold + release\n",
    "                ActionChains(browser).key_down(letter).perform()\n",
    "                time.sleep(random.uniform(0.040, 0.050))  # key hold: 40–50ms\n",
    "                ActionChains(browser).key_up(letter).perform()\n",
    "                time.sleep(varied_delay)\n",
    "\n",
    "                # 🔁 2% chance: Make a typo and fix it\n",
    "                if random.random() < 0.02 and letter.isalpha():\n",
    "                    wrong_letter = random.choice(\"abcdefghijklmnopqrstuvwxyz\")\n",
    "                    ActionChains(browser).send_keys(wrong_letter).perform()\n",
    "                    time.sleep(varied_delay + 0.04)\n",
    "                    ActionChains(browser).send_keys('\\b').perform()\n",
    "                    time.sleep(0.04)\n",
    "\n",
    "                # 🔁 1% chance: Typo not corrected\n",
    "                if random.random() < 0.01 and letter.isalpha():\n",
    "                    wrong_letter = random.choice(\"abcdefghijklmnopqrstuvwxyz\")\n",
    "                    ActionChains(browser).send_keys(wrong_letter).perform()\n",
    "                    time.sleep(varied_delay)\n",
    "                    continue  # skip correct letter to simulate typo\n",
    "\n",
    "    except Exception as e:\n",
    "        print(\"⚠️ Exception:\", e)\n",
    "\n",
    "    print(\"✅ Game Over (Humanized Typing Finished)\")\n"
   ]
  },
  {
   "cell_type": "code",
   "execution_count": null,
   "id": "0f599457",
   "metadata": {},
   "outputs": [],
   "source": [
    "url = 'https://monkeytype.com/'\n",
    "browser.get(url)"
   ]
  },
  {
   "cell_type": "code",
   "execution_count": null,
   "id": "8082342b",
   "metadata": {},
   "outputs": [],
   "source": [
    "try:\n",
    "    accept_all_btn = browser.find_element(By.CSS_SELECTOR, \".button.active.acceptAll\")\n",
    "    accept_all_btn.click()\n",
    "except Exception:\n",
    "    pass"
   ]
  },
  {
   "cell_type": "code",
   "execution_count": null,
   "id": "a406986f",
   "metadata": {},
   "outputs": [],
   "source": [
    "# focus on page\n",
    "browser.find_element(By.CSS_SELECTOR, \".word.active\").click()"
   ]
  },
  {
   "cell_type": "code",
   "execution_count": null,
   "id": "a55036aa",
   "metadata": {
    "scrolled": false
   },
   "outputs": [],
   "source": [
    "time.sleep(5)\n",
    "delay = 0.02 # 0.0185\n",
    "# uncomment one of the following lines to test different methods\n",
    "one_letter_at_a_time(delay)\n",
    "# all_letters_at_a_time(delay)\n",
    "# one_word_at_a_time(delay)\n",
    "# one_word_letter_at_a_time(delay)\n",
    "# type_human_like"
   ]
  },
  {
   "cell_type": "code",
   "execution_count": null,
   "id": "30e39bb0",
   "metadata": {},
   "outputs": [],
   "source": [
    "wpm = browser.find_element(By.CSS_SELECTOR, \".group.wpm\").find_element(By.CLASS_NAME, \"bottom\").text\n",
    "acc = browser.find_element(By.CSS_SELECTOR, \".group.acc\").find_element(By.CLASS_NAME, \"bottom\").text\n",
    "consistency = browser.find_element(By.CSS_SELECTOR, \".group.flat.consistency\").find_element(By.CLASS_NAME, \"bottom\").text\n",
    "print(\"wpm: \" + wpm)\n",
    "print(\"accuracy: \" + acc)\n",
    "print(\"consistency: \" + consistency)"
   ]
  },
  {
   "cell_type": "code",
   "execution_count": null,
   "id": "c7c6fc0a",
   "metadata": {},
   "outputs": [],
   "source": []
  }
 ],
 "metadata": {
  "kernelspec": {
   "display_name": "Python 3 (ipykernel)",
   "language": "python",
   "name": "python3"
  },
  "language_info": {
   "codemirror_mode": {
    "name": "ipython",
    "version": 3
   },
   "file_extension": ".py",
   "mimetype": "text/x-python",
   "name": "python",
   "nbconvert_exporter": "python",
   "pygments_lexer": "ipython3",
   "version": "3.12.4"
  }
 },
 "nbformat": 4,
 "nbformat_minor": 5
}
