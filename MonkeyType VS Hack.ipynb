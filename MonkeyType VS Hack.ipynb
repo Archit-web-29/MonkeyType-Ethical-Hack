{
 "cells": [
  {
   "cell_type": "code",
   "execution_count": 27,
   "id": "0f690c8a",
   "metadata": {},
   "outputs": [],
   "source": [
    "import time\n",
    "import random\n",
    "from selenium import webdriver\n",
    "from selenium.webdriver.common.by import By\n",
    "from selenium.webdriver import ActionChains\n",
    "from selenium.common.exceptions import NoSuchElementException, StaleElementReferenceException\n",
    "from webdriver_manager.chrome import ChromeDriverManager\n",
    "from selenium.webdriver.common.keys import Keys"
   ]
  },
  {
   "cell_type": "code",
   "execution_count": 28,
   "id": "54b8e1bb",
   "metadata": {},
   "outputs": [],
   "source": [
    "# browser = webdriver.Chrome(ChromeDriverManager().install()) # use this to install chromium\n",
    "browser = webdriver.Chrome() # use this line if chromedriver is in PATH"
   ]
  },
  {
   "cell_type": "code",
   "execution_count": 29,
   "id": "9e1f735a",
   "metadata": {},
   "outputs": [],
   "source": [
    "def one_letter_at_a_time(delay: float):\n",
    "    # version 1: send leter by letter\n",
    "    words = browser.find_element(By.ID, \"words\").find_elements(By.CLASS_NAME, \"word\")\n",
    "    try:\n",
    "        while len(words) != 0:\n",
    "            active_index = [i for i in range(len(words)) if 'active' in words[i].get_attribute('class')][0]\n",
    "            words = words[active_index:]\n",
    "            all_letters = \"\"\n",
    "            for word in words:\n",
    "                letters = word.find_elements(By.TAG_NAME, \"letter\")\n",
    "                for letter in letters:\n",
    "                    all_letters += letter.text\n",
    "                all_letters += \" \"\n",
    "            for letter in all_letters:\n",
    "                ActionChains(browser).send_keys(letter).perform()\n",
    "                time.sleep(delay)\n",
    "            words = browser.find_element(By.ID, \"words\").find_elements(By.CLASS_NAME, \"word\")\n",
    "    except Exception as e:\n",
    "        print(e)\n",
    "    print(\"Game Over\")"
   ]
  },
  {
   "cell_type": "code",
   "execution_count": 30,
   "id": "98800e15",
   "metadata": {},
   "outputs": [],
   "source": [
    "def all_letters_at_a_time(delay: float):\n",
    "    # version 2: send all letters at once\n",
    "    words = browser.find_element(By.ID, \"words\").find_elements(By.CLASS_NAME, \"word\")\n",
    "    try:\n",
    "        while len(words) != 0:\n",
    "            active_index = [i for i in range(len(words)) if 'active' in words[i].get_attribute('class')][0]\n",
    "            words = words[active_index:]\n",
    "            all_letters = \"\"\n",
    "            for word in words:\n",
    "                letters = word.find_elements(By.TAG_NAME, \"letter\")\n",
    "                for letter in letters:\n",
    "                    all_letters += letter.text\n",
    "                all_letters += \" \"\n",
    "            ActionChains(browser).send_keys(all_letters).perform()\n",
    "            time.sleep(delay)\n",
    "            words = browser.find_element(By.ID, \"words\").find_elements(By.CLASS_NAME, \"word\")\n",
    "    except Exception as e:\n",
    "        print(e)\n",
    "    print(\"Game Over\")\n"
   ]
  },
  {
   "cell_type": "code",
   "execution_count": 31,
   "id": "3c70d730",
   "metadata": {},
   "outputs": [],
   "source": [
    "def one_word_at_a_time(delay: float):\n",
    "    # version 3: detect one active word at a time and input (fastest way)\n",
    "    try:\n",
    "        while len(browser.find_elements(By.CLASS_NAME, \"word\")) != 0:\n",
    "            ActionChains(browser).send_keys([letter.text for letter in browser.find_element(By.CSS_SELECTOR, \".word.active\").find_elements(By.TAG_NAME, \"letter\")] + [' ']).perform()\n",
    "            time.sleep(delay)\n",
    "    except Exception as e:\n",
    "        print(e)\n",
    "    print(\"Game Over\")"
   ]
  },
  {
   "cell_type": "code",
   "execution_count": 32,
   "id": "eaf92282",
   "metadata": {},
   "outputs": [],
   "source": [
    "def one_word_letter_at_a_time(wpm=500):\n",
    "    import random, time\n",
    "    from selenium.webdriver.common.by import By\n",
    "    from selenium.webdriver.common.action_chains import ActionChains\n",
    "\n",
    "    delay = 1 / wpm # Accurate delay per character to match WPM\n",
    "    print(f\"Target WPM {wpm} → Delay per char: {delay:.4f} sec\")\n",
    "\n",
    "    try:\n",
    "        start_time = time.time()\n",
    "\n",
    "        while len(browser.find_elements(By.CLASS_NAME, \"word\")) != 0:\n",
    "            active_word = browser.find_element(By.CSS_SELECTOR, \".word.active\")\n",
    "            letters = [letter.text for letter in active_word.find_elements(By.TAG_NAME, \"letter\")] + [' ']\n",
    "\n",
    "            for letter in letters:\n",
    "                elapsed = time.time() - start_time\n",
    "\n",
    "                # Dynamic typing speed to simulate human rhythm\n",
    "                if elapsed < 4:\n",
    "                    varied_delay = random.uniform(delay * 0.3, delay * 0.6)\n",
    "                elif elapsed < 10:\n",
    "                    varied_delay = random.uniform(delay * 0.7, delay * 1.1)\n",
    "                else:\n",
    "                    varied_delay = random.uniform(delay * 0.95, delay * 1.1)\n",
    "\n",
    "                # Occasional pause patterns (human-like)\n",
    "                r = random.random()\n",
    "                if r < 0.005:\n",
    "                    time.sleep(1.0)      # deep pause\n",
    "                elif r < 0.01:\n",
    "                    time.sleep(0.5)      # slight hesitation\n",
    "                elif r < 0.015:\n",
    "                    time.sleep(0.25)\n",
    "                elif r < 0.02:\n",
    "                    time.sleep(0.125)\n",
    "                elif r < 0.025:\n",
    "                    time.sleep(0.0231)\n",
    "\n",
    "                # Slow down on awkward keys\n",
    "                if len(letter) > 1 or letter.lower() in ['p', 'y', 'g']:\n",
    "                    time.sleep(0.025)\n",
    "\n",
    "                # Simulate realistic key press + hold + release\n",
    "                ActionChains(browser).key_down(letter).perform()\n",
    "                time.sleep(random.uniform(0.040, 0.050))  # key hold: 40–50ms\n",
    "                ActionChains(browser).key_up(letter).perform()\n",
    "                time.sleep(varied_delay)\n",
    "\n",
    "                # 🔁 2% chance: Make a typo and fix it\n",
    "                if random.random() < 0.02 and letter.isalpha():\n",
    "                    wrong_letter = random.choice(\"abcdefghijklmnopqrstuvwxyz\")\n",
    "                    ActionChains(browser).send_keys(wrong_letter).perform()\n",
    "                    time.sleep(varied_delay + 0.04)\n",
    "                    ActionChains(browser).send_keys('\\b').perform()\n",
    "                    time.sleep(0.04)\n",
    "\n",
    "                # 🔁 1% chance: Typo not corrected\n",
    "                if random.random() < 0.01 and letter.isalpha():\n",
    "                    wrong_letter = random.choice(\"abcdefghijklmnopqrstuvwxyz\")\n",
    "                    ActionChains(browser).send_keys(wrong_letter).perform()\n",
    "                    time.sleep(varied_delay)\n",
    "                    continue  # skip correct letter to simulate typo\n",
    "\n",
    "    except Exception as e:\n",
    "        print(\"⚠️ Exception:\", e)\n",
    "\n",
    "    print(\"✅ Game Over (Humanized Typing Finished)\")\n"
   ]
  },
  {
   "cell_type": "code",
   "execution_count": 33,
   "id": "3d2c6822",
   "metadata": {},
   "outputs": [],
   "source": [
    "url = 'https://monkeytype.com/'\n",
    "browser.get(url)"
   ]
  },
  {
   "cell_type": "code",
   "execution_count": 34,
   "id": "6f840e3b",
   "metadata": {},
   "outputs": [],
   "source": [
    "try:\n",
    "    accept_all_btn = browser.find_element(By.CSS_SELECTOR, \".button.active.acceptAll\")\n",
    "    accept_all_btn.click()\n",
    "except Exception:\n",
    "    pass"
   ]
  },
  {
   "cell_type": "code",
   "execution_count": 35,
   "id": "ea6057fc",
   "metadata": {},
   "outputs": [
    {
     "ename": "ElementClickInterceptedException",
     "evalue": "Message: element click intercepted: Element <div class=\"word active\">...</div> is not clickable at point (136, 313). Other element would receive the click: <dialog id=\"cookiesModal\" class=\"modalWrapper\" data-nosnippet=\"\" open=\"\" style=\"opacity: 1;\">...</dialog>\n  (Session info: chrome=138.0.7204.168)\nStacktrace:\n0   chromedriver                        0x0000000104f07570 cxxbridge1$str$ptr + 2731064\n1   chromedriver                        0x0000000104eff468 cxxbridge1$str$ptr + 2698032\n2   chromedriver                        0x0000000104a4e3f8 cxxbridge1$string$len + 90664\n3   chromedriver                        0x0000000104a9b280 cxxbridge1$string$len + 405680\n4   chromedriver                        0x0000000104a997ec cxxbridge1$string$len + 398876\n5   chromedriver                        0x0000000104a97600 cxxbridge1$string$len + 390192\n6   chromedriver                        0x0000000104a969fc cxxbridge1$string$len + 387116\n7   chromedriver                        0x0000000104a8b530 cxxbridge1$string$len + 340832\n8   chromedriver                        0x0000000104a8afbc cxxbridge1$string$len + 339436\n9   chromedriver                        0x0000000104ad6b1c cxxbridge1$string$len + 649548\n10  chromedriver                        0x0000000104a89a0c cxxbridge1$string$len + 333884\n11  chromedriver                        0x0000000104eca5f4 cxxbridge1$str$ptr + 2481340\n12  chromedriver                        0x0000000104ecd85c cxxbridge1$str$ptr + 2494244\n13  chromedriver                        0x0000000104eab248 cxxbridge1$str$ptr + 2353424\n14  chromedriver                        0x0000000104ece118 cxxbridge1$str$ptr + 2496480\n15  chromedriver                        0x0000000104e9c2f8 cxxbridge1$str$ptr + 2292160\n16  chromedriver                        0x0000000104eee00c cxxbridge1$str$ptr + 2627284\n17  chromedriver                        0x0000000104eee198 cxxbridge1$str$ptr + 2627680\n18  chromedriver                        0x0000000104eff0a4 cxxbridge1$str$ptr + 2697068\n19  libsystem_pthread.dylib             0x000000019506ec0c _pthread_start + 136\n20  libsystem_pthread.dylib             0x0000000195069b80 thread_start + 8\n",
     "output_type": "error",
     "traceback": [
      "\u001b[0;31m---------------------------------------------------------------------------\u001b[0m",
      "\u001b[0;31mElementClickInterceptedException\u001b[0m          Traceback (most recent call last)",
      "Cell \u001b[0;32mIn[35], line 2\u001b[0m\n\u001b[1;32m      1\u001b[0m \u001b[38;5;66;03m# focus on page\u001b[39;00m\n\u001b[0;32m----> 2\u001b[0m browser\u001b[38;5;241m.\u001b[39mfind_element(By\u001b[38;5;241m.\u001b[39mCSS_SELECTOR, \u001b[38;5;124m\"\u001b[39m\u001b[38;5;124m.word.active\u001b[39m\u001b[38;5;124m\"\u001b[39m)\u001b[38;5;241m.\u001b[39mclick()\n",
      "File \u001b[0;32m/opt/anaconda3/lib/python3.12/site-packages/selenium/webdriver/remote/webelement.py:121\u001b[0m, in \u001b[0;36mWebElement.click\u001b[0;34m(self)\u001b[0m\n\u001b[1;32m    113\u001b[0m \u001b[38;5;28;01mdef\u001b[39;00m \u001b[38;5;21mclick\u001b[39m(\u001b[38;5;28mself\u001b[39m) \u001b[38;5;241m-\u001b[39m\u001b[38;5;241m>\u001b[39m \u001b[38;5;28;01mNone\u001b[39;00m:\n\u001b[1;32m    114\u001b[0m \u001b[38;5;250m    \u001b[39m\u001b[38;5;124;03m\"\"\"Clicks the element.\u001b[39;00m\n\u001b[1;32m    115\u001b[0m \n\u001b[1;32m    116\u001b[0m \u001b[38;5;124;03m    Example:\u001b[39;00m\n\u001b[0;32m   (...)\u001b[0m\n\u001b[1;32m    119\u001b[0m \u001b[38;5;124;03m    >>> element.click()\u001b[39;00m\n\u001b[1;32m    120\u001b[0m \u001b[38;5;124;03m    \"\"\"\u001b[39;00m\n\u001b[0;32m--> 121\u001b[0m     \u001b[38;5;28mself\u001b[39m\u001b[38;5;241m.\u001b[39m_execute(Command\u001b[38;5;241m.\u001b[39mCLICK_ELEMENT)\n",
      "File \u001b[0;32m/opt/anaconda3/lib/python3.12/site-packages/selenium/webdriver/remote/webelement.py:574\u001b[0m, in \u001b[0;36mWebElement._execute\u001b[0;34m(self, command, params)\u001b[0m\n\u001b[1;32m    572\u001b[0m     params \u001b[38;5;241m=\u001b[39m {}\n\u001b[1;32m    573\u001b[0m params[\u001b[38;5;124m\"\u001b[39m\u001b[38;5;124mid\u001b[39m\u001b[38;5;124m\"\u001b[39m] \u001b[38;5;241m=\u001b[39m \u001b[38;5;28mself\u001b[39m\u001b[38;5;241m.\u001b[39m_id\n\u001b[0;32m--> 574\u001b[0m \u001b[38;5;28;01mreturn\u001b[39;00m \u001b[38;5;28mself\u001b[39m\u001b[38;5;241m.\u001b[39m_parent\u001b[38;5;241m.\u001b[39mexecute(command, params)\n",
      "File \u001b[0;32m/opt/anaconda3/lib/python3.12/site-packages/selenium/webdriver/remote/webdriver.py:447\u001b[0m, in \u001b[0;36mWebDriver.execute\u001b[0;34m(self, driver_command, params)\u001b[0m\n\u001b[1;32m    445\u001b[0m response \u001b[38;5;241m=\u001b[39m \u001b[38;5;28mself\u001b[39m\u001b[38;5;241m.\u001b[39mcommand_executor\u001b[38;5;241m.\u001b[39mexecute(driver_command, params)\n\u001b[1;32m    446\u001b[0m \u001b[38;5;28;01mif\u001b[39;00m response:\n\u001b[0;32m--> 447\u001b[0m     \u001b[38;5;28mself\u001b[39m\u001b[38;5;241m.\u001b[39merror_handler\u001b[38;5;241m.\u001b[39mcheck_response(response)\n\u001b[1;32m    448\u001b[0m     response[\u001b[38;5;124m\"\u001b[39m\u001b[38;5;124mvalue\u001b[39m\u001b[38;5;124m\"\u001b[39m] \u001b[38;5;241m=\u001b[39m \u001b[38;5;28mself\u001b[39m\u001b[38;5;241m.\u001b[39m_unwrap_value(response\u001b[38;5;241m.\u001b[39mget(\u001b[38;5;124m\"\u001b[39m\u001b[38;5;124mvalue\u001b[39m\u001b[38;5;124m\"\u001b[39m, \u001b[38;5;28;01mNone\u001b[39;00m))\n\u001b[1;32m    449\u001b[0m     \u001b[38;5;28;01mreturn\u001b[39;00m response\n",
      "File \u001b[0;32m/opt/anaconda3/lib/python3.12/site-packages/selenium/webdriver/remote/errorhandler.py:232\u001b[0m, in \u001b[0;36mErrorHandler.check_response\u001b[0;34m(self, response)\u001b[0m\n\u001b[1;32m    230\u001b[0m         alert_text \u001b[38;5;241m=\u001b[39m value[\u001b[38;5;124m\"\u001b[39m\u001b[38;5;124malert\u001b[39m\u001b[38;5;124m\"\u001b[39m]\u001b[38;5;241m.\u001b[39mget(\u001b[38;5;124m\"\u001b[39m\u001b[38;5;124mtext\u001b[39m\u001b[38;5;124m\"\u001b[39m)\n\u001b[1;32m    231\u001b[0m     \u001b[38;5;28;01mraise\u001b[39;00m exception_class(message, screen, stacktrace, alert_text)  \u001b[38;5;66;03m# type: ignore[call-arg]  # mypy is not smart enough here\u001b[39;00m\n\u001b[0;32m--> 232\u001b[0m \u001b[38;5;28;01mraise\u001b[39;00m exception_class(message, screen, stacktrace)\n",
      "\u001b[0;31mElementClickInterceptedException\u001b[0m: Message: element click intercepted: Element <div class=\"word active\">...</div> is not clickable at point (136, 313). Other element would receive the click: <dialog id=\"cookiesModal\" class=\"modalWrapper\" data-nosnippet=\"\" open=\"\" style=\"opacity: 1;\">...</dialog>\n  (Session info: chrome=138.0.7204.168)\nStacktrace:\n0   chromedriver                        0x0000000104f07570 cxxbridge1$str$ptr + 2731064\n1   chromedriver                        0x0000000104eff468 cxxbridge1$str$ptr + 2698032\n2   chromedriver                        0x0000000104a4e3f8 cxxbridge1$string$len + 90664\n3   chromedriver                        0x0000000104a9b280 cxxbridge1$string$len + 405680\n4   chromedriver                        0x0000000104a997ec cxxbridge1$string$len + 398876\n5   chromedriver                        0x0000000104a97600 cxxbridge1$string$len + 390192\n6   chromedriver                        0x0000000104a969fc cxxbridge1$string$len + 387116\n7   chromedriver                        0x0000000104a8b530 cxxbridge1$string$len + 340832\n8   chromedriver                        0x0000000104a8afbc cxxbridge1$string$len + 339436\n9   chromedriver                        0x0000000104ad6b1c cxxbridge1$string$len + 649548\n10  chromedriver                        0x0000000104a89a0c cxxbridge1$string$len + 333884\n11  chromedriver                        0x0000000104eca5f4 cxxbridge1$str$ptr + 2481340\n12  chromedriver                        0x0000000104ecd85c cxxbridge1$str$ptr + 2494244\n13  chromedriver                        0x0000000104eab248 cxxbridge1$str$ptr + 2353424\n14  chromedriver                        0x0000000104ece118 cxxbridge1$str$ptr + 2496480\n15  chromedriver                        0x0000000104e9c2f8 cxxbridge1$str$ptr + 2292160\n16  chromedriver                        0x0000000104eee00c cxxbridge1$str$ptr + 2627284\n17  chromedriver                        0x0000000104eee198 cxxbridge1$str$ptr + 2627680\n18  chromedriver                        0x0000000104eff0a4 cxxbridge1$str$ptr + 2697068\n19  libsystem_pthread.dylib             0x000000019506ec0c _pthread_start + 136\n20  libsystem_pthread.dylib             0x0000000195069b80 thread_start + 8\n"
     ]
    }
   ],
   "source": [
    "# focus on page\n",
    "browser.find_element(By.CSS_SELECTOR, \".word.active\").click()"
   ]
  },
  {
   "cell_type": "code",
   "execution_count": 40,
   "id": "919192af",
   "metadata": {
    "scrolled": false
   },
   "outputs": [
    {
     "name": "stdout",
     "output_type": "stream",
     "text": [
      "Game Over\n"
     ]
    }
   ],
   "source": [
    "time.sleep(5)\n",
    "delay = 0.02 # 0.0185\n",
    "# uncomment one of the following lines to test different methods\n",
    "one_letter_at_a_time(delay)\n",
    "# all_letters_at_a_time(delay)\n",
    "# one_word_at_a_time(delay)\n",
    "# one_word_letter_at_a_time(delay)\n",
    "# type_human_like"
   ]
  },
  {
   "cell_type": "code",
   "execution_count": null,
   "id": "4afb76e7",
   "metadata": {},
   "outputs": [],
   "source": [
    "wpm = browser.find_element(By.CSS_SELECTOR, \".group.wpm\").find_element(By.CLASS_NAME, \"bottom\").text\n",
    "acc = browser.find_element(By.CSS_SELECTOR, \".group.acc\").find_element(By.CLASS_NAME, \"bottom\").text\n",
    "consistency = browser.find_element(By.CSS_SELECTOR, \".group.flat.consistency\").find_element(By.CLASS_NAME, \"bottom\").text\n",
    "print(\"wpm: \" + wpm)\n",
    "print(\"accuracy: \" + acc)\n",
    "print(\"consistency: \" + consistency)"
   ]
  },
  {
   "cell_type": "code",
   "execution_count": null,
   "id": "c92d100b",
   "metadata": {},
   "outputs": [],
   "source": []
  }
 ],
 "metadata": {
  "kernelspec": {
   "display_name": "Python 3 (ipykernel)",
   "language": "python",
   "name": "python3"
  },
  "language_info": {
   "codemirror_mode": {
    "name": "ipython",
    "version": 3
   },
   "file_extension": ".py",
   "mimetype": "text/x-python",
   "name": "python",
   "nbconvert_exporter": "python",
   "pygments_lexer": "ipython3",
   "version": "3.12.4"
  }
 },
 "nbformat": 4,
 "nbformat_minor": 5
}
